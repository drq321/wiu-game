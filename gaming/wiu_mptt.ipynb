{
 "cells": [
  {
   "cell_type": "code",
   "execution_count": null,
   "metadata": {},
   "outputs": [],
   "source": [
    "import openai\n",
    "import os\n",
    "import random\n",
    "import re\n",
    "import time\n",
    "\n",
    "openai.api_key=\"******\""
   ]
  },
  {
   "cell_type": "code",
   "execution_count": null,
   "metadata": {},
   "outputs": [],
   "source": [
    "def get_completion(prompt, model=\"gpt-3.5-turbo\"):\n",
    "    messages = [{\"role\": \"user\", \"content\": prompt}]\n",
    "    response = openai.ChatCompletion.create(\n",
    "        model=model,\n",
    "        messages=messages,\n",
    "        #temperature=0.8, \n",
    "    )\n",
    "    return response.choices[0].message[\"content\"]"
   ]
  },
  {
   "cell_type": "code",
   "execution_count": null,
   "metadata": {},
   "outputs": [],
   "source": [
    "game_rule=\"\"\"You are playing a game called \"Who's Undercover,\" designed for five players divided into two roles: Civilians and Undercover. Each player receives a word, with Undercover players getting a slightly different but similar word compared to Civilians.\n",
    "\n",
    "The goal is to identify the Undercover players through descriptions and voting. Each round, players describe their word with a single short sentence highlighting one characteristic, avoiding repetition of others' descriptions and without explicitly stating the word. For example, if your word is \"orange,\" you cannot say the word \"orange\" directly.\n",
    "\n",
    "After everyone has spoken, all players vote, and the person with the most votes is eliminated. Civilians aim to identify and vote out the Undercover players, while the Undercover players work together to confuse others and vote out Civilians.\n",
    "\n",
    "The game continues until either all Undercover players are eliminated (Civilians win) or only one Civilian remains (Undercover wins).\"\"\"\n",
    "\n",
    "\n",
    "game_roles=[\"In this round, there are five players, and you will play as Player 1. Your word is: whale. Please describe your word according to the game rules.\",\n",
    "            \"In this round, there are five players, and you will play as Player 2. Your word is: shark. Please describe your word according to the game rules.\",\n",
    "            \"In this round, there are five players, and you will play as Player 3. Your word is: whale. Please describe your word according to the game rules.\",\n",
    "            \"In this round, there are five players, and you will play as Player 4. Your word is: shark. Please describe your word according to the game rules.\",\n",
    "            \"In this round, there are five players, and you will play as Player 5. Your word is: whale. Please describe your word according to the game rules.\"]"
   ]
  },
  {
   "cell_type": "code",
   "execution_count": 4,
   "metadata": {},
   "outputs": [],
   "source": [
    "role_order=[1,2,3,4,5]\n",
    "current_role_index= 0 \n",
    "history=[]\n",
    "def get_next_role():\n",
    "    global current_role_index\n",
    "    # if current_role_index is None: \n",
    "    #     next_role=random.choice(role_order)  #random beginning\n",
    "    # else:\n",
    "    next_role = role_order[current_role_index]\n",
    "    current_role_index = (current_role_index + 1) % len(role_order)\n",
    "    return next_role\n"
   ]
  },
  {
   "cell_type": "code",
   "execution_count": null,
   "metadata": {},
   "outputs": [],
   "source": [
    "#mptt\n",
    "first_order=\"\"\"Before describing, consider the following from a first-person perspective: How should you describe the word you received? Focus on only one feature to make its description as broad as possible. Choose one angle to describe it but avoid repeating what has already been said in the history. After reflecting, give your first-person response:\"\"\"\n",
    "self_judgment=\"\"\"After hearing others' descriptions, guess whether you might be the undercover. If you think you could be the undercover, honestly reflect and consider how to describe the word without revealing yourself. If you think you’re a civilian, also answer honestly. Make your self-assessment:\"\"\"\n",
    "second_order=\"\"\"Based on your self-assessment, consider how others might perceive your first-person response. Would they think you’re the undercover? How should you modify your statement? Think from their perspective and give your final response while hiding the word itself:\"\"\"\n",
    "\n",
    "first_vote=\"\"\"Before voting, reflect on the history: Consider the features of your word and identify whose descriptions seem similar, suggesting they might share the same word. Who’s description differs significantly?\"\"\"\n",
    "vote_judgment=\"\"\"Reflect on your self-assessment during the speaking phase: Do you need to adjust your judgment? Clearly determine if you are a civilian or an undercover after the round ends. Remember, there are at most two undercovers among the five players. Make your final judgment:\"\"\"\n",
    "second_vote=\"\"\"Based on your clear judgment, think: If you’re an undercover, whose description is most similar and could be your ally? Who should you vote for to protect yourself, even if it means voting for your ally to gain the opposing team’s trust? If you’re a civilian, whose descriptions sound more like they’re from the undercover team? Vote for one person you believe is most likely on the opposing side. Provide your final choice:\"\"\"\n"
   ]
  },
  {
   "cell_type": "markdown",
   "metadata": {},
   "source": [
    "## speaking session"
   ]
  },
  {
   "cell_type": "code",
   "execution_count": null,
   "metadata": {},
   "outputs": [],
   "source": [
    "#game round   ==Run it before the start of each round==\n",
    "last_inquiry_time = 0\n",
    "history_round=[]\n",
    "speak_guesses=[]\n",
    "def make_response(prompts):\n",
    "    global history,last_inquiry_time\n",
    "    role = get_next_role()\n",
    "    # Check that the time interval is greater than 30 seconds\n",
    "    current_time = time.time()\n",
    "    if current_time - last_inquiry_time < 30:\n",
    "        print(\"The time interval is less than 30 seconds, waiting...\")\n",
    "        time.sleep(30 - (current_time - last_inquiry_time))\n",
    "    \n",
    "    # Update the last time GPT was asked\n",
    "    last_inquiry_time = time.time()\n",
    "    \n",
    "    # Combine history and current prompt into input text\n",
    "    tip=f\"\"\"You are player{role}, this is the previous description record, please don't have duplicate description.\"\"\"\n",
    "    tip2=\"\"\"Now think about each of these from the first-perspective, self-judgment, and others-perspectives:\"\"\"\n",
    "    tip3=\"\"\"Please summarize your first-perspective thinking, your self-judgment thinking, and your others-perspective thinking to come up with a summary thought:.... this round I've judged myself to be: ....and give your vote on the thought\"\"\"\n",
    "    input_text = '\\n'.join([prompts]+[tip]+history+[tip2]+[first_order]+[self_judgment]+[second_order]+[tip3])\n",
    "    response=get_completion(input_text)\n",
    "    speak_guess = response.splitlines()[-1]\n",
    "    speak_guesses.append(f'player{role} think:{speak_guess}')\n",
    "    output=game_rule+game_roles[current_role_index-1]+tip2+response+\"This is a record of the previous description, please do not duplicate the description.\"+str(history)+\"\"\"Follow the rules carefully. Think step by step, and hide the word itself in your description! Make your final statement for this round: describe your word in one sentence.\"\"\"\n",
    "    \n",
    "    response2=get_completion(output)\n",
    "    print(input_text)\n",
    "    print(f'player{role} think:')\n",
    "    print(response)\n",
    "    #print(output)\n",
    "    print(f'player{role} said:')\n",
    "    print(response2)\n",
    "    history.append(f'player{role} said:{response2}')\n",
    "    history_round.append(f'player{role} said:{response2}')\n",
    "    #print(role)"
   ]
  },
  {
   "cell_type": "code",
   "execution_count": null,
   "metadata": {},
   "outputs": [],
   "source": [
    "#game round   ==the second round===\n",
    "last_inquiry_time = 0\n",
    "history_round=[]\n",
    "#speak_guesses=[]\n",
    "speak_guesses2=[]\n",
    "def make_response(prompts):\n",
    "    global history,last_inquiry_time,vote_think\n",
    "    role = get_next_role()\n",
    "   \n",
    "    current_time = time.time()\n",
    "    if current_time - last_inquiry_time < 30:\n",
    "        print(\"The time interval is less than 30 seconds, waiting...\")\n",
    "        time.sleep(30 - (current_time - last_inquiry_time))\n",
    "    \n",
    "    \n",
    "    last_inquiry_time = time.time()\n",
    "    \n",
    "    player_num=f'player{role}'\n",
    "    player_think = next(filter(lambda x: player_num in x, speak_guesses), None)\n",
    "\n",
    "    tip=f\"\"\"You are player{role}, here is a record of the previous description and your self-judgment and trust relationship from the last round, think about whether or not you made a change this round?\"\"\"\n",
    "    tip2=\"\"\"Now think about each of these from the first-perspective, self-judgment, and others-perspectives：\"\"\"\n",
    "    tip3=\"\"\"Please summarize your first perspective thinking, your self-judgment thinking, and your others-perspective thinking to come up with a summary thought: this round I judged myself as:\"\"\"\n",
    "    input_text = '\\n'.join([prompts]+[tip]+history+[\"Self-judgment from the previous round is as follows, and whether or not you changed your mind during this round of thinking:\"]+[player_think]+[tip2]+[first_order]+[self_judgment]+[second_order]+[tip3])\n",
    "    response=get_completion(input_text)\n",
    "    speak_guess = response.splitlines()[-1]\n",
    "    speak_guesses2.append(f'player{role} think:{speak_guess}')\n",
    "    output=game_rule+game_roles[current_role_index-1]+tip2+response+\"This is a record of the previous description, please do not duplicate the description.\"+str(history)+\"\"\"Follow the rules carefully. Think step by step, and hide the word itself in your description! Make your final statement for this round: describe your word in one sentence.\"\"\"\n",
    "    \n",
    "    response2=get_completion(output)\n",
    "    print(input_text)\n",
    "    print(f'player{role} think:')\n",
    "    print(response)\n",
    "    #print(output)\n",
    "    print(f'player{role} said:')\n",
    "    print(response2)\n",
    "    history.append(f'player{role} said:{response2}')\n",
    "    history_round.append(f'player{role} said:{response2}')\n",
    "    #print(role)"
   ]
  },
  {
   "cell_type": "code",
   "execution_count": null,
   "metadata": {},
   "outputs": [],
   "source": [
    "#game round   ==the third round (if have)===\n",
    "last_inquiry_time = 0\n",
    "history_round=[]\n",
    "#speak_guesses=[]\n",
    "speak_guesses3=[]\n",
    "def make_response(prompts):\n",
    "    global history,last_inquiry_time,vote_think\n",
    "    role = get_next_role()\n",
    "    \n",
    "    current_time = time.time()\n",
    "    if current_time - last_inquiry_time < 30:\n",
    "        print(\"The time interval is less than 30 seconds, waiting...\")\n",
    "        time.sleep(30 - (current_time - last_inquiry_time))\n",
    "    \n",
    "    \n",
    "    last_inquiry_time = time.time()\n",
    "    \n",
    "    player_num=f'player{role}'\n",
    "    player_think = next(filter(lambda x: player_num in x, speak_guesses2), None)\n",
    "\n",
    "    tip=f\"\"\"You are player{role}, here is a record of the previous description and your self-judgment and trust relationship from the last round, think about whether or not you made a change this round?\"\"\"\n",
    "    tip2=\"\"\"Now think about each of these from the first-perspective, self-judgment, and others-perspectives：\"\"\"\n",
    "    tip3=\"\"\"Please summarize your first perspective thinking, your self-judgment thinking, and your others-perspective thinking to come up with a summary thought: this round I judged myself as:\"\"\"\n",
    "    input_text = '\\n'.join([prompts]+[tip]+history+[\"Self-judgment from the previous round is as follows, and whether or not you changed your mind during this round of thinking:\"]+[player_think]+[tip2]+[first_order]+[self_judgment]+[second_order]+[tip3])\n",
    "    response=get_completion(input_text)\n",
    "    speak_guess = response.splitlines()[-1]\n",
    "    speak_guesses3.append(f'player{role} think:{speak_guess}')\n",
    "    output=game_rule+game_roles[current_role_index-1]+tip2+response+\"This is a record of the previous description, please do not duplicate the description.\"+str(history)+\"\"\"Follow the rules carefully. Think step by step, and hide the word itself in your description! Make your final statement for this round: describe your word in one sentence.\"\"\"\n",
    "    \n",
    "    response2=get_completion(output)\n",
    "    print(input_text)\n",
    "    print(f'player{role} think:')\n",
    "    print(response)\n",
    "    #print(output)\n",
    "    print(f'player{role} said:')\n",
    "    print(response2)\n",
    "    history.append(f'player{role} said:{response2}')\n",
    "    history_round.append(f'player{role} said:{response2}')\n",
    "    #print(role)"
   ]
  },
  {
   "cell_type": "code",
   "execution_count": null,
   "metadata": {},
   "outputs": [],
   "source": [
    "# ===speaking response===\n",
    "current_role_index = random.randint(0, len(role_order) - 1) #random beginning\n",
    "\n",
    "# every round discussion\n",
    "for _ in range (len(role_order)):\n",
    "    game=game_rule+game_roles[current_role_index]\n",
    "    #print(game)\n",
    "    make_response(game)"
   ]
  },
  {
   "cell_type": "markdown",
   "metadata": {},
   "source": [
    "## Voting Session"
   ]
  },
  {
   "cell_type": "code",
   "execution_count": null,
   "metadata": {},
   "outputs": [],
   "source": [
    "# round vote\n",
    "vote_think=[]\n",
    "def response_vote():\n",
    "    global history,votes,last_inquiry_time\n",
    "    role= get_next_role()\n",
    "    \n",
    "    current_time = time.time()\n",
    "    if current_time - last_inquiry_time < 30:\n",
    "        print(\"The time interval is less than 30 seconds, waiting...\")\n",
    "        time.sleep(30 - (current_time - last_inquiry_time))\n",
    "    \n",
    "  \n",
    "    last_inquiry_time = time.time()\n",
    "    player_num=f'player{role}'\n",
    "    player_speech = next(filter(lambda x: player_num in x, history_round), None)\n",
    "    player_think=next(filter(lambda x: player_num in x, speak_guesses), None) #c hange the speak_guesses every round\n",
    "    vote_prompts=game_rule+game_roles[current_role_index-1]+f\"\"\"You are player{role}. Below is the complete history of all statements in this game. Statements with the same number belong to the same player across different rounds. For this voting round, only the players listed below are participating, and you must not vote for any other number. The statements marked as player{role} are your own statements: {history}. Your statement for this round is: {player_speech}. Your thought process during this round is: {player_think}. Without voting for yourself, analyze the history of statements and start your response with \"My word is...\". \n",
    "    \"\"\"+first_vote+vote_judgment+second_vote+\"\"\"\n",
    "    Summarize all your thoughts during the speaking phase and provide a conclusion: This round, I determine myself as: ... I trust...\n",
    "    \"\"\"\n",
    "    response=get_completion(vote_prompts)\n",
    "    print(vote_prompts)\n",
    "    print(f'Player{role} speaking in voting session:')\n",
    "    print(response) \n",
    "    vote_think.append(f'player{role} said:{response}')\n",
    "    output_vote=game_rule+f\"\"\"You are player{role},this is your reflection in the voting session: \"\"\"+response+\"\"\"Based on the final result you got from your reflection,tell me to answer in this sentence format:I vote for player in this round.... Don't repeat other people's descriptions,don't vote for yourself,you can only vote for one person.\"\"\"\n",
    "    response2=get_completion(output_vote)\n",
    "    print(f'Player{role} said:')\n",
    "    print(response2)\n",
    "    votes.append(f'player{role} said:{response2}')\n",
    "    "
   ]
  },
  {
   "cell_type": "code",
   "execution_count": null,
   "metadata": {},
   "outputs": [],
   "source": [
    "# ===voting response===\n",
    "votes=[]\n",
    "for _ in range(len(role_order)):\n",
    "    response_vote()"
   ]
  },
  {
   "cell_type": "code",
   "execution_count": null,
   "metadata": {},
   "outputs": [],
   "source": [
    "# ===voting results===\n",
    "votes"
   ]
  },
  {
   "cell_type": "code",
   "execution_count": null,
   "metadata": {},
   "outputs": [],
   "source": [
    "# input the undercover's number\n",
    "role_order=[1,2,3,4,5]\n",
    "outsider=[2,4]"
   ]
  },
  {
   "cell_type": "code",
   "execution_count": null,
   "metadata": {},
   "outputs": [],
   "source": [
    "def check_and_exclude(response, role_order):\n",
    "    # catch the number\n",
    "    match = re.search(r'player\\s*(\\d+)\\s*[\\u4e00-\\u9fa5]*\\s*is undercover', response) \n",
    "    global game_roles\n",
    "   \n",
    "    captured_number = int(match.group(1))\n",
    "        \n",
    "    # Check to see if it is in the player list, if it is then strike it out\n",
    "    if captured_number in role_order:\n",
    "        role_order.remove(captured_number)\n",
    "        print(f'Player{captured_number}is out！')\n",
    "        remove_num=str(captured_number)\n",
    "        game_roles = list(filter(lambda x: remove_num not in x, game_roles))\n",
    "    \n",
    "    remaining_numbers = [number for number in role_order if number not in outsider]\n",
    "    remaining_outsider = [number for number in role_order if number in outsider]\n",
    "    print(remaining_numbers)\n",
    "    if captured_number not in outsider and len(remaining_numbers) > 1:\n",
    "        return \"The game continues.\"\n",
    "    if len(remaining_numbers) == 1:\n",
    "        return 'Game over! The Undercover wins!'\n",
    "    if len(remaining_outsider) == 0:\n",
    "        return 'Game over! The Civilian wins!'\n",
    "    else:\n",
    "        return \"The game continues.\"\n",
    "quit_prompt=f\"\"\"Assistant, the player with the most votes describing “I think player is undercover” from each player's mouth will be considered undercover, who do you think is undercover based on the vote type? The votes are: {votes}\"\"\"\n",
    "response=get_completion(quit_prompt)\n",
    "\n",
    "print(response)\n",
    "\n",
    "check_and_exclude(response, role_order)"
   ]
  },
  {
   "cell_type": "code",
   "execution_count": null,
   "metadata": {},
   "outputs": [],
   "source": [
    "# Checking the players present\n",
    "\n",
    "game_roles"
   ]
  }
 ],
 "metadata": {
  "kernelspec": {
   "display_name": "Python 3",
   "language": "python",
   "name": "python3"
  },
  "language_info": {
   "codemirror_mode": {
    "name": "ipython",
    "version": 3
   },
   "file_extension": ".py",
   "mimetype": "text/x-python",
   "name": "python",
   "nbconvert_exporter": "python",
   "pygments_lexer": "ipython3",
   "version": "3.7.9"
  }
 },
 "nbformat": 4,
 "nbformat_minor": 2
}
