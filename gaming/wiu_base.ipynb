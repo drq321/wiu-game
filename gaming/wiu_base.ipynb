{
 "cells": [
  {
   "cell_type": "code",
   "execution_count": null,
   "metadata": {},
   "outputs": [],
   "source": [
    "import openai\n",
    "import os\n",
    "import random\n",
    "import re\n",
    "import time\n",
    "\n",
    "openai.api_key=\"******\"\n"
   ]
  },
  {
   "cell_type": "code",
   "execution_count": null,
   "metadata": {},
   "outputs": [],
   "source": [
    "def get_completion(prompt, model=\"gpt-3.5-turbo\"):\n",
    "    messages = [{\"role\": \"user\", \"content\": prompt}]\n",
    "    response = openai.ChatCompletion.create(\n",
    "        model=model,\n",
    "        messages=messages,\n",
    "        #temperature=0.8, \n",
    "    )\n",
    "    return response.choices[0].message[\"content\"]"
   ]
  },
  {
   "cell_type": "code",
   "execution_count": null,
   "metadata": {},
   "outputs": [],
   "source": [
    "game_rule=\"\"\"You are playing a game called \"Who's Undercover,\" designed for five players divided into two roles: Civilians and Undercover. Each player receives a word, with Undercover players getting a slightly different but similar word compared to Civilians.\n",
    "\n",
    "The goal is to identify the Undercover players through descriptions and voting. Each round, players describe their word with a single short sentence highlighting one characteristic, avoiding repetition of others' descriptions and without explicitly stating the word. For example, if your word is \"orange,\" you cannot say the word \"orange\" directly.\n",
    "\n",
    "After everyone has spoken, all players vote, and the person with the most votes is eliminated. Civilians aim to identify and vote out the Undercover players, while the Undercover players work together to confuse others and vote out Civilians.\n",
    "\n",
    "The game continues until either all Undercover players are eliminated (Civilians win) or only one Civilian remains (Undercover wins).\"\"\"\n",
    "\n",
    "\n",
    "game_roles=[\"In this round, there are five players, and you will play as Player 1. Your word is: whale. Please describe your word according to the game rules.\",\n",
    "            \"In this round, there are five players, and you will play as Player 2. Your word is: shark. Please describe your word according to the game rules.\",\n",
    "            \"In this round, there are five players, and you will play as Player 3. Your word is: whale. Please describe your word according to the game rules.\",\n",
    "            \"In this round, there are five players, and you will play as Player 4. Your word is: shark. Please describe your word according to the game rules.\",\n",
    "            \"In this round, there are five players, and you will play as Player 5. Your word is: whale. Please describe your word according to the game rules.\"]"
   ]
  },
  {
   "cell_type": "code",
   "execution_count": 4,
   "metadata": {},
   "outputs": [],
   "source": [
    "role_order=[1,2,3,4,5]\n",
    "current_role_index= 0\n",
    "history=[]\n",
    "def get_next_role():\n",
    "    global current_role_index\n",
    "    # if current_role_index is None: \n",
    "    #     next_role=random.choice(role_order)  #random beginning\n",
    "    # else:\n",
    "    next_role = role_order[current_role_index]\n",
    "    current_role_index = (current_role_index + 1) % len(role_order)\n",
    "    return next_role"
   ]
  },
  {
   "cell_type": "markdown",
   "metadata": {},
   "source": [
    "## Speaking Session"
   ]
  },
  {
   "cell_type": "code",
   "execution_count": null,
   "metadata": {},
   "outputs": [],
   "source": [
    "#game round   ==Run it before the start of each round==\n",
    "last_inquiry_time = 0\n",
    "history_round=[]\n",
    "def make_response(prompts):\n",
    "    global history,last_inquiry_time\n",
    "    role = get_next_role()\n",
    "    # Check that the time interval is greater than 30 seconds\n",
    "    current_time = time.time()\n",
    "    if current_time - last_inquiry_time < 30:\n",
    "        print(\"The time interval is less than 30 seconds, waiting...\")\n",
    "        time.sleep(30 - (current_time - last_inquiry_time))\n",
    "    \n",
    "    # Update the last time GPT was asked\n",
    "    last_inquiry_time = time.time()\n",
    "    \n",
    "    # Combine history and current prompt into input text\n",
    "    \n",
    "    output=prompts+\"This is a record of the previous description, please do not duplicate the description.\"+str(history)+\"\"\"Follow the rules carefully. Think step by step, and hide the word itself in your description! Make your final statement for this round: describe your word in one sentence.\"\"\"\n",
    "    response2=get_completion(output)\n",
    "    print(output)\n",
    "    print(f'Player{role} said:')\n",
    "    print(response2)\n",
    "    history.append(f'player{role} said:{response2}')\n",
    "    history_round.append(f'player{role} said:{response2}')\n",
    "    #print(role)"
   ]
  },
  {
   "cell_type": "code",
   "execution_count": null,
   "metadata": {},
   "outputs": [],
   "source": [
    "# ===speaking response===\n",
    "current_role_index = random.randint(0, len(role_order) - 1) #random beginning\n",
    "\n",
    "# every round discussion\n",
    "for _ in range (len(role_order)):\n",
    "    game=game_rule+game_roles[current_role_index]\n",
    "    #print(game)\n",
    "    make_response(game)"
   ]
  },
  {
   "cell_type": "markdown",
   "metadata": {},
   "source": [
    "## Voting Session"
   ]
  },
  {
   "cell_type": "code",
   "execution_count": null,
   "metadata": {},
   "outputs": [],
   "source": [
    "def response_vote():\n",
    "    global history,votes,last_inquiry_time\n",
    "    role= get_next_role()\n",
    "    # Check that the time interval is greater than 30 seconds\n",
    "    current_time = time.time()\n",
    "    if current_time - last_inquiry_time < 30:\n",
    "        print(\"The time interval is less than 30 seconds, waiting...\")\n",
    "        time.sleep(30 - (current_time - last_inquiry_time))\n",
    "    \n",
    "    # Update the last time GPT was asked\n",
    "    last_inquiry_time = time.time()\n",
    "    player_num=f'player{role}'\n",
    "    player_speech = next(filter(lambda x: player_num in x, history_round), None)\n",
    "    vote_prompts=game_rule+game_roles[current_role_index-1]+f\"\"\"You are player {role}. Here is the speech history: {history_round}. Your speech for this round is: {player_speech}. Following the rules and without voting for yourself, reflect on the following based on the speech history: Do you think you are a civilian or an undercover this round? Whose answer do you find trustworthy? Who do you think is on the opposing side? Who do you want to vote for?\"\"\"\n",
    "    response=get_completion(vote_prompts)\n",
    "    print(vote_prompts)\n",
    "    print(f'Player{role} speaking in voting session:')\n",
    "    print(response) \n",
    "    output_vote=game_rule+f\"\"\"You are player{role},this is your reflection in the voting session: \"\"\"+response+\"\"\"Based on the final result you got from your reflection,tell me to answer in this sentence format:I vote for player in this round.... Don't repeat other people's descriptions,don't vote for yourself,you can only vote for one person.\"\"\"\n",
    "    response2=get_completion(output_vote)\n",
    "    print(f'Player{role} said:')\n",
    "    print(response2)\n",
    "    votes.append(f'player{role} said:{response2}')"
   ]
  },
  {
   "cell_type": "code",
   "execution_count": null,
   "metadata": {},
   "outputs": [],
   "source": [
    "history_round"
   ]
  },
  {
   "cell_type": "code",
   "execution_count": null,
   "metadata": {},
   "outputs": [],
   "source": [
    "# ===voting response===\n",
    "votes=[]\n",
    "for _ in range(len(role_order)):\n",
    "    response_vote()"
   ]
  },
  {
   "cell_type": "code",
   "execution_count": null,
   "metadata": {},
   "outputs": [],
   "source": [
    "# ===voting results===\n",
    "votes"
   ]
  },
  {
   "cell_type": "code",
   "execution_count": null,
   "metadata": {},
   "outputs": [],
   "source": [
    "# input the undercover's number\n",
    "role_order=[1,2,3,4,5]\n",
    "outsider=[2,4]"
   ]
  },
  {
   "cell_type": "code",
   "execution_count": null,
   "metadata": {},
   "outputs": [],
   "source": [
    "def check_and_exclude(response, role_order):\n",
    "    # catch the number\n",
    "    match = re.search(r'player\\s*(\\d+)\\s*[\\u4e00-\\u9fa5]*\\s*is undercover', response) \n",
    "    global game_roles\n",
    "   \n",
    "    captured_number = int(match.group(1))\n",
    "        \n",
    "    # Check to see if it is in the player list, if it is then strike it out\n",
    "    if captured_number in role_order:\n",
    "        role_order.remove(captured_number)\n",
    "        print(f'Player{captured_number}is out！')\n",
    "        remove_num=str(captured_number)\n",
    "        game_roles = list(filter(lambda x: remove_num not in x, game_roles))\n",
    "    \n",
    "    remaining_numbers = [number for number in role_order if number not in outsider]\n",
    "    remaining_outsider = [number for number in role_order if number in outsider]\n",
    "    print(remaining_numbers)\n",
    "    if captured_number not in outsider and len(remaining_numbers) > 1:\n",
    "        return \"The game continues.\"\n",
    "    if len(remaining_numbers) == 1:\n",
    "        return 'Game over! The Undercover wins!'\n",
    "    if len(remaining_outsider) == 0:\n",
    "        return 'Game over! The Civilian wins!'\n",
    "    else:\n",
    "        return \"The game continues.\"\n",
    "quit_prompt=f\"\"\"Assistant, the player with the most votes describing “I think player is undercover” from each player's mouth will be considered undercover, who do you think is undercover based on the vote type? The votes are: {votes}\"\"\"\n",
    "response=get_completion(quit_prompt)\n",
    "\n",
    "print(response)\n",
    "\n",
    "check_and_exclude(response, role_order)"
   ]
  },
  {
   "cell_type": "code",
   "execution_count": null,
   "metadata": {},
   "outputs": [],
   "source": [
    "# Checking the players present\n",
    "\n",
    "game_roles"
   ]
  }
 ],
 "metadata": {
  "kernelspec": {
   "display_name": "Python 3",
   "language": "python",
   "name": "python3"
  },
  "language_info": {
   "codemirror_mode": {
    "name": "ipython",
    "version": 3
   },
   "file_extension": ".py",
   "mimetype": "text/x-python",
   "name": "python",
   "nbconvert_exporter": "python",
   "pygments_lexer": "ipython3",
   "version": "3.7.9"
  }
 },
 "nbformat": 4,
 "nbformat_minor": 2
}
